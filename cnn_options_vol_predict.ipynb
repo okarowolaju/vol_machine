{
 "cells": [
  {
   "cell_type": "markdown",
   "metadata": {},
   "source": [
    "# Predict Options Volatility Movement\n",
    "\n",
    "### In this notebook, Instead of predicting the next day's Volailtility based on historical volatility, we will predict the binary variable — predict the movement up or down. \n",
    "\n",
    "### We will normalize our n-days window data only by their mean and variance (z-score normalization of Open, High, Low, Close), a multivariate time series. \n",
    "\n",
    "### We will use CNN as a classifier for building tensorflow LSTM model."
   ]
  },
  {
   "cell_type": "code",
   "execution_count": 1,
   "metadata": {},
   "outputs": [
    {
     "name": "stderr",
     "output_type": "stream",
     "text": [
      "WARNING:root:Limited tf.compat.v2.summary API due to missing TensorBoard installation.\n",
      "WARNING:root:Limited tf.compat.v2.summary API due to missing TensorBoard installation.\n",
      "WARNING:root:Limited tf.compat.v2.summary API due to missing TensorBoard installation.\n",
      "WARNING:root:Limited tf.summary API due to missing TensorBoard installation.\n"
     ]
    }
   ],
   "source": [
    "#initial Imports\n",
    "import pandas as pd\n",
    "import numpy as np\n",
    "from  datetime import datetime\n",
    "from pathlib import Path\n",
    "import matplotlib.pyplot as plt\n",
    "import tensorflow as tf\n",
    "from sklearn.preprocessing import MinMaxScaler, StandardScaler\n",
    "from sklearn.metrics import classification_report\n",
    "from sklearn.metrics import confusion_matrix\n",
    "from tensorflow.keras.models import Sequential\n",
    "from tensorflow.keras.layers import LSTM, Dense, Dropout, Convolution1D\n",
    "from tensorflow.keras.layers import *\n",
    "from tensorflow.keras.initializers import *\n",
    "from tensorflow.keras.optimizers import RMSprop, Adam, SGD, Nadam\n",
    "%matplotlib inline"
   ]
  },
  {
   "cell_type": "code",
   "execution_count": 2,
   "metadata": {},
   "outputs": [],
   "source": [
    "#read the data\n",
    "def load_data(path):\n",
    "    data = pd.read_csv(path, parse_dates=True, infer_datetime_format=True, delimiter=',', \n",
    "                       usecols=['Date', 'Open', 'High', 'Low', 'Close'], index_col='Date')\n",
    "    data=data.replace([np.inf, -np.inf], np.nan).dropna()\n",
    "    return data"
   ]
  },
  {
   "cell_type": "code",
   "execution_count": 3,
   "metadata": {},
   "outputs": [],
   "source": [
    "#process the data\n",
    "def get_feature_target(data, window, fcast):\n",
    "    X=[]\n",
    "    y=[]\n",
    "    for i in range(len(data)- window - fcast): \n",
    "            try:\n",
    "                o = data.iloc[i:(i + window), 0]\n",
    "                h = data.iloc[i:(i + window), 1] \n",
    "                l = data.iloc[i:(i + window), 2] \n",
    "                c = data.iloc[i:(i + window), 3] \n",
    "\n",
    "                # calculate z scores\n",
    "                o = (o - np.mean(o))/np.std(o)\n",
    "                h = (h - np.mean(h))/np.std(h)\n",
    "                l = (l - np.mean(l))/np.std(l)\n",
    "                c = (c - np.mean(c))/np.std(c)\n",
    "  \n",
    "               # y_j=[]\n",
    "               # for j in range(fcast):\n",
    "                if data.Close[i] <  data.Close[i+1] :\n",
    "                    y_i=[1, 0]\n",
    "                    #y_i.append([1, 0]) # up\n",
    "                else:\n",
    "                    y_i=[0, 1]\n",
    "                    #y_i.append([0, 1]) # down\n",
    "                x_i = np.column_stack((o, h, l, c))\n",
    "                #y_i=np.column_stack(y_j)\n",
    "            except Exception as e:\n",
    "                break\n",
    "                \n",
    "            X.append(x_i)\n",
    "            y.append(y_i)\n",
    "            \n",
    "    X, y = np.array(X), np.array(y)\n",
    "    return X, y"
   ]
  },
  {
   "cell_type": "code",
   "execution_count": 4,
   "metadata": {},
   "outputs": [],
   "source": [
    "#train the data\n",
    "def get_train_test_data(features, target, emb_size, split):\n",
    "    \n",
    "    split=int(split*len(features))\n",
    "    X_train = features[:split]\n",
    "    X_test = features[split:]\n",
    "    y_train = target[:split]\n",
    "    y_test = target[split:]\n",
    "    \n",
    "    X_train = np.reshape(X_train, (X_train.shape[0], X_train.shape[1], emb_size))\n",
    "    X_test = np.reshape(X_test, (X_test.shape[0], X_test.shape[1], emb_size))\n",
    "    \n",
    "    return X_train, X_test, y_train, y_test"
   ]
  },
  {
   "cell_type": "code",
   "execution_count": 5,
   "metadata": {},
   "outputs": [],
   "source": [
    "# Build & compile LSTM model. \n",
    "def build_compile_model(dropout_fraction, X_train, window, emb_size, loss):\n",
    "    model = Sequential()\n",
    "    #first convolution layer\n",
    "    model.add(Convolution1D(input_shape = (window, emb_size),\n",
    "                        filters=16,\n",
    "                        kernel_size=4, padding='same'\n",
    "                        ))\n",
    "    model.add(BatchNormalization())\n",
    "    model.add(LeakyReLU())\n",
    "    model.add(Dropout(dropout_fraction))\n",
    "    \n",
    "    #second convolution layer\n",
    "    model.add(Convolution1D(filters=4,\n",
    "                        kernel_size=4, padding='same'\n",
    "                        ))\n",
    "    model.add(BatchNormalization())\n",
    "    model.add(LeakyReLU())\n",
    "    model.add(Dropout(dropout_fraction))\n",
    "    \n",
    "    model.add(Flatten())\n",
    "    \n",
    "    model.add(Dense(8))\n",
    "    model.add(BatchNormalization())\n",
    "    model.add(LeakyReLU())\n",
    "    \n",
    "    model.add(Dense(2))\n",
    "    model.add(Activation('softmax'))\n",
    "       \n",
    "    # Compile the model\n",
    "    model.compile(optimizer=Nadam(lr=0.002), \n",
    "              loss=loss,\n",
    "              metrics=['accuracy'])\n",
    "    \n",
    "    return model"
   ]
  },
  {
   "cell_type": "code",
   "execution_count": 6,
   "metadata": {},
   "outputs": [
    {
     "data": {
      "text/html": [
       "<div>\n",
       "<style scoped>\n",
       "    .dataframe tbody tr th:only-of-type {\n",
       "        vertical-align: middle;\n",
       "    }\n",
       "\n",
       "    .dataframe tbody tr th {\n",
       "        vertical-align: top;\n",
       "    }\n",
       "\n",
       "    .dataframe thead th {\n",
       "        text-align: right;\n",
       "    }\n",
       "</style>\n",
       "<table border=\"1\" class=\"dataframe\">\n",
       "  <thead>\n",
       "    <tr style=\"text-align: right;\">\n",
       "      <th></th>\n",
       "      <th>Open</th>\n",
       "      <th>High</th>\n",
       "      <th>Low</th>\n",
       "      <th>Close</th>\n",
       "    </tr>\n",
       "    <tr>\n",
       "      <th>Date</th>\n",
       "      <th></th>\n",
       "      <th></th>\n",
       "      <th></th>\n",
       "      <th></th>\n",
       "    </tr>\n",
       "  </thead>\n",
       "  <tbody>\n",
       "    <tr>\n",
       "      <th>2010-11-08</th>\n",
       "      <td>38.50</td>\n",
       "      <td>38.93</td>\n",
       "      <td>37.36</td>\n",
       "      <td>37.38</td>\n",
       "    </tr>\n",
       "    <tr>\n",
       "      <th>2010-11-09</th>\n",
       "      <td>37.31</td>\n",
       "      <td>37.73</td>\n",
       "      <td>36.45</td>\n",
       "      <td>36.46</td>\n",
       "    </tr>\n",
       "    <tr>\n",
       "      <th>2010-11-10</th>\n",
       "      <td>36.02</td>\n",
       "      <td>36.52</td>\n",
       "      <td>34.93</td>\n",
       "      <td>35.43</td>\n",
       "    </tr>\n",
       "    <tr>\n",
       "      <th>2010-11-11</th>\n",
       "      <td>35.77</td>\n",
       "      <td>37.32</td>\n",
       "      <td>35.77</td>\n",
       "      <td>36.41</td>\n",
       "    </tr>\n",
       "    <tr>\n",
       "      <th>2010-11-12</th>\n",
       "      <td>36.43</td>\n",
       "      <td>39.39</td>\n",
       "      <td>36.04</td>\n",
       "      <td>39.12</td>\n",
       "    </tr>\n",
       "  </tbody>\n",
       "</table>\n",
       "</div>"
      ],
      "text/plain": [
       "             Open   High    Low  Close\n",
       "Date                                  \n",
       "2010-11-08  38.50  38.93  37.36  37.38\n",
       "2010-11-09  37.31  37.73  36.45  36.46\n",
       "2010-11-10  36.02  36.52  34.93  35.43\n",
       "2010-11-11  35.77  37.32  35.77  36.41\n",
       "2010-11-12  36.43  39.39  36.04  39.12"
      ]
     },
     "execution_count": 6,
     "metadata": {},
     "output_type": "execute_result"
    }
   ],
   "source": [
    "#fetch the data\n",
    "file_dir= './resources/amznvix.txt'\n",
    "df=load_data(file_dir)\n",
    "df.head()"
   ]
  },
  {
   "cell_type": "code",
   "execution_count": 7,
   "metadata": {},
   "outputs": [
    {
     "name": "stdout",
     "output_type": "stream",
     "text": [
      "[[[ 1.70148256  0.90602754  1.56470191  0.33767033]\n",
      "  [ 0.50622622 -0.23602398  0.42559892 -0.40198849]\n",
      "  [-0.78947184 -1.38759259 -1.4770786  -1.23008478]\n",
      "  [-1.04057611 -0.62622492 -0.42559892 -0.44218734]\n",
      "  [-0.37766083  1.34381395 -0.08762331  1.73659028]]] [[0 1]]\n"
     ]
    }
   ],
   "source": [
    "# process the data and fetch the features and target\n",
    "window =5 #n days window \n",
    "forecast = 1 # of days to predicted\n",
    "features, target = get_feature_target(df, window, forecast)\n",
    "print (features[:1], target[:1])"
   ]
  },
  {
   "cell_type": "code",
   "execution_count": 8,
   "metadata": {},
   "outputs": [],
   "source": [
    "#get scaled, train & test data\n",
    "split_ratio =0.70\n",
    "embedded_size = len(df.columns) # Number of features/columns embedded in X - in this case it is 4 (Open, high, low, close) \n",
    "X_train, X_test, y_train, y_test = get_train_test_data(features, target, embedded_size, split_ratio)"
   ]
  },
  {
   "cell_type": "code",
   "execution_count": 9,
   "metadata": {},
   "outputs": [],
   "source": [
    "#build & compile the model by calling the function and passing the parameters\n",
    "window=5\n",
    "dropout=0.2\n",
    "loss = \"categorical_crossentropy\"\n",
    "model = build_compile_model(dropout, X_train, window, embedded_size, loss)"
   ]
  },
  {
   "cell_type": "code",
   "execution_count": 10,
   "metadata": {},
   "outputs": [
    {
     "name": "stdout",
     "output_type": "stream",
     "text": [
      "Model: \"sequential\"\n",
      "_________________________________________________________________\n",
      "Layer (type)                 Output Shape              Param #   \n",
      "=================================================================\n",
      "conv1d (Conv1D)              (None, 5, 16)             272       \n",
      "_________________________________________________________________\n",
      "batch_normalization (BatchNo (None, 5, 16)             64        \n",
      "_________________________________________________________________\n",
      "leaky_re_lu (LeakyReLU)      (None, 5, 16)             0         \n",
      "_________________________________________________________________\n",
      "dropout (Dropout)            (None, 5, 16)             0         \n",
      "_________________________________________________________________\n",
      "conv1d_1 (Conv1D)            (None, 5, 4)              260       \n",
      "_________________________________________________________________\n",
      "batch_normalization_1 (Batch (None, 5, 4)              16        \n",
      "_________________________________________________________________\n",
      "leaky_re_lu_1 (LeakyReLU)    (None, 5, 4)              0         \n",
      "_________________________________________________________________\n",
      "dropout_1 (Dropout)          (None, 5, 4)              0         \n",
      "_________________________________________________________________\n",
      "flatten (Flatten)            (None, 20)                0         \n",
      "_________________________________________________________________\n",
      "dense (Dense)                (None, 8)                 168       \n",
      "_________________________________________________________________\n",
      "batch_normalization_2 (Batch (None, 8)                 32        \n",
      "_________________________________________________________________\n",
      "leaky_re_lu_2 (LeakyReLU)    (None, 8)                 0         \n",
      "_________________________________________________________________\n",
      "dense_1 (Dense)              (None, 2)                 18        \n",
      "_________________________________________________________________\n",
      "activation (Activation)      (None, 2)                 0         \n",
      "=================================================================\n",
      "Total params: 830\n",
      "Trainable params: 774\n",
      "Non-trainable params: 56\n",
      "_________________________________________________________________\n"
     ]
    }
   ],
   "source": [
    "# display model architecture\n",
    "model.summary()"
   ]
  },
  {
   "cell_type": "code",
   "execution_count": 11,
   "metadata": {},
   "outputs": [
    {
     "data": {
      "image/png": "[encoded data removed]",
      "text/plain": [
       "<IPython.core.display.Image object>"
      ]
     },
     "execution_count": 11,
     "metadata": {},
     "output_type": "execute_result"
    }
   ],
   "source": [
    "#plot model architecture\n",
    "tf.keras.utils.plot_model(model, to_file='ibmconv1d.png', show_shapes=True, show_layer_names=True, \n",
    "                          rankdir='LR', expand_nested=True, dpi=96)"
   ]
  },
  {
   "cell_type": "code",
   "execution_count": 12,
   "metadata": {},
   "outputs": [
    {
     "data": {
      "text/plain": [
       "<tensorflow.python.keras.callbacks.History at 0x1d63c1a1f48>"
      ]
     },
     "execution_count": 12,
     "metadata": {},
     "output_type": "execute_result"
    }
   ],
   "source": [
    "#train the model\n",
    "model.fit(X_train, y_train, epochs = 100, \n",
    "          batch_size = 64, verbose=0, \n",
    "          validation_split=0.2, shuffle=False)"
   ]
  },
  {
   "cell_type": "code",
   "execution_count": 13,
   "metadata": {},
   "outputs": [
    {
     "name": "stdout",
     "output_type": "stream",
     "text": [
      "76/76 [==============================] - 0s 3ms/step - loss: 0.0397 - accuracy: 0.9814\n"
     ]
    },
    {
     "data": {
      "text/plain": [
       "[0.03971200808882713, 0.9814323782920837]"
      ]
     },
     "execution_count": 13,
     "metadata": {},
     "output_type": "execute_result"
    }
   ],
   "source": [
    "# Evaluate the model\n",
    "model.evaluate(X_test, y_test, batch_size=10, verbose=1)"
   ]
  },
  {
   "cell_type": "code",
   "execution_count": 14,
   "metadata": {},
   "outputs": [],
   "source": [
    "#make predictions \n",
    "pred = model.predict(np.array(X_test))"
   ]
  },
  {
   "cell_type": "code",
   "execution_count": 15,
   "metadata": {},
   "outputs": [
    {
     "data": {
      "text/plain": [
       "<AxesSubplot:title={'center':'Confusion Matrix'}>"
      ]
     },
     "execution_count": 15,
     "metadata": {},
     "output_type": "execute_result"
    },
    {
     "data": {
      "image/png": "[encoded data removed]",
      "text/plain": [
       "<Figure size 432x288 with 1 Axes>"
      ]
     },
     "metadata": {
      "needs_background": "light"
     },
     "output_type": "display_data"
    }
   ],
   "source": [
    "# evaluate model efficiency by plotting confusion matrix\n",
    "c_matrix = pd.DataFrame(confusion_matrix([np.argmax(y) for y in y_test], [np.argmax(y) for y in pred]), columns=['Predicted_0', 'Predicted_1'], index=['Actual_0', 'Actual_1'])\n",
    "c_matrix.plot(kind='bar', title='Confusion Matrix')"
   ]
  },
  {
   "cell_type": "code",
   "execution_count": 16,
   "metadata": {},
   "outputs": [
    {
     "name": "stdout",
     "output_type": "stream",
     "text": [
      "              precision    recall  f1-score   support\n",
      "\n",
      "           0       0.97      0.99      0.98       355\n",
      "           1       0.99      0.98      0.98       399\n",
      "\n",
      "    accuracy                           0.98       754\n",
      "   macro avg       0.98      0.98      0.98       754\n",
      "weighted avg       0.98      0.98      0.98       754\n",
      "\n"
     ]
    }
   ],
   "source": [
    "#create classification report\n",
    "c_report = classification_report([np.argmax(y) for y in y_test], [np.argmax(y) for y in pred])\n",
    "print(c_report)"
   ]
  },
  {
   "cell_type": "code",
   "execution_count": null,
   "metadata": {},
   "outputs": [],
   "source": []
  }
 ],
 "metadata": {
  "kernelspec": {
   "display_name": "Python [conda env:pyvizenv] *",
   "language": "python",
   "name": "conda-env-pyvizenv-py"
  },
  "language_info": {
   "codemirror_mode": {
    "name": "ipython",
    "version": 3
   },
   "file_extension": ".py",
   "mimetype": "text/x-python",
   "name": "python",
   "nbconvert_exporter": "python",
   "pygments_lexer": "ipython3",
   "version": "3.7.7"
  }
 },
 "nbformat": 4,
 "nbformat_minor": 4
}
